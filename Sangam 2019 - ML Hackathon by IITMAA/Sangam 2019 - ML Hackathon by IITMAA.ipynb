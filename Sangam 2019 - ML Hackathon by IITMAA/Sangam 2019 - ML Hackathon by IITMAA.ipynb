{
 "cells": [
  {
   "cell_type": "markdown",
   "metadata": {},
   "source": [
    "#### link to challenge : https://www.hackerearth.com/challenges/competitive/IIT-Madras-Sangam-ML-Hackathon-2019/problems/"
   ]
  },
  {
   "cell_type": "code",
   "execution_count": 1,
   "metadata": {},
   "outputs": [],
   "source": [
    "import numpy as np\n",
    "import pandas as pd\n",
    "import sklearn as sk\n",
    "import matplotlib.pyplot as plt\n",
    "%matplotlib inline"
   ]
  },
  {
   "cell_type": "markdown",
   "metadata": {},
   "source": [
    "### data preparation"
   ]
  },
  {
   "cell_type": "code",
   "execution_count": 239,
   "metadata": {},
   "outputs": [],
   "source": [
    "train_df = pd.read_csv('./dataset/Train.csv')\n",
    "test_df = pd.read_csv('./dataset/Test.csv')\n",
    "sample_df = pd.read_csv('./dataset/sample_submission.csv')"
   ]
  },
  {
   "cell_type": "code",
   "execution_count": 39,
   "metadata": {},
   "outputs": [
    {
     "name": "stdout",
     "output_type": "stream",
     "text": [
      "(33750, 15) (14454, 14) (4, 2)\n"
     ]
    }
   ],
   "source": [
    "print(train_df.shape, test_df.shape, sample_df.shape)"
   ]
  },
  {
   "cell_type": "code",
   "execution_count": 40,
   "metadata": {},
   "outputs": [
    {
     "data": {
      "text/html": [
       "<div>\n",
       "<style scoped>\n",
       "    .dataframe tbody tr th:only-of-type {\n",
       "        vertical-align: middle;\n",
       "    }\n",
       "\n",
       "    .dataframe tbody tr th {\n",
       "        vertical-align: top;\n",
       "    }\n",
       "\n",
       "    .dataframe thead th {\n",
       "        text-align: right;\n",
       "    }\n",
       "</style>\n",
       "<table border=\"1\" class=\"dataframe\">\n",
       "  <thead>\n",
       "    <tr style=\"text-align: right;\">\n",
       "      <th></th>\n",
       "      <th>date_time</th>\n",
       "      <th>is_holiday</th>\n",
       "      <th>air_pollution_index</th>\n",
       "      <th>humidity</th>\n",
       "      <th>wind_speed</th>\n",
       "      <th>wind_direction</th>\n",
       "      <th>visibility_in_miles</th>\n",
       "      <th>dew_point</th>\n",
       "      <th>temperature</th>\n",
       "      <th>rain_p_h</th>\n",
       "      <th>snow_p_h</th>\n",
       "      <th>clouds_all</th>\n",
       "      <th>weather_type</th>\n",
       "      <th>weather_description</th>\n",
       "      <th>traffic_volume</th>\n",
       "    </tr>\n",
       "  </thead>\n",
       "  <tbody>\n",
       "    <tr>\n",
       "      <th>0</th>\n",
       "      <td>2012-10-02 09:00:00</td>\n",
       "      <td>None</td>\n",
       "      <td>121</td>\n",
       "      <td>89</td>\n",
       "      <td>2</td>\n",
       "      <td>329</td>\n",
       "      <td>1</td>\n",
       "      <td>1</td>\n",
       "      <td>288.28</td>\n",
       "      <td>0.0</td>\n",
       "      <td>0.0</td>\n",
       "      <td>40</td>\n",
       "      <td>Clouds</td>\n",
       "      <td>scattered clouds</td>\n",
       "      <td>5545</td>\n",
       "    </tr>\n",
       "    <tr>\n",
       "      <th>1</th>\n",
       "      <td>2012-10-02 10:00:00</td>\n",
       "      <td>None</td>\n",
       "      <td>178</td>\n",
       "      <td>67</td>\n",
       "      <td>3</td>\n",
       "      <td>330</td>\n",
       "      <td>1</td>\n",
       "      <td>1</td>\n",
       "      <td>289.36</td>\n",
       "      <td>0.0</td>\n",
       "      <td>0.0</td>\n",
       "      <td>75</td>\n",
       "      <td>Clouds</td>\n",
       "      <td>broken clouds</td>\n",
       "      <td>4516</td>\n",
       "    </tr>\n",
       "    <tr>\n",
       "      <th>2</th>\n",
       "      <td>2012-10-02 11:00:00</td>\n",
       "      <td>None</td>\n",
       "      <td>113</td>\n",
       "      <td>66</td>\n",
       "      <td>3</td>\n",
       "      <td>329</td>\n",
       "      <td>2</td>\n",
       "      <td>2</td>\n",
       "      <td>289.58</td>\n",
       "      <td>0.0</td>\n",
       "      <td>0.0</td>\n",
       "      <td>90</td>\n",
       "      <td>Clouds</td>\n",
       "      <td>overcast clouds</td>\n",
       "      <td>4767</td>\n",
       "    </tr>\n",
       "    <tr>\n",
       "      <th>3</th>\n",
       "      <td>2012-10-02 12:00:00</td>\n",
       "      <td>None</td>\n",
       "      <td>20</td>\n",
       "      <td>66</td>\n",
       "      <td>3</td>\n",
       "      <td>329</td>\n",
       "      <td>5</td>\n",
       "      <td>5</td>\n",
       "      <td>290.13</td>\n",
       "      <td>0.0</td>\n",
       "      <td>0.0</td>\n",
       "      <td>90</td>\n",
       "      <td>Clouds</td>\n",
       "      <td>overcast clouds</td>\n",
       "      <td>5026</td>\n",
       "    </tr>\n",
       "    <tr>\n",
       "      <th>4</th>\n",
       "      <td>2012-10-02 13:00:00</td>\n",
       "      <td>None</td>\n",
       "      <td>281</td>\n",
       "      <td>65</td>\n",
       "      <td>3</td>\n",
       "      <td>329</td>\n",
       "      <td>7</td>\n",
       "      <td>7</td>\n",
       "      <td>291.14</td>\n",
       "      <td>0.0</td>\n",
       "      <td>0.0</td>\n",
       "      <td>75</td>\n",
       "      <td>Clouds</td>\n",
       "      <td>broken clouds</td>\n",
       "      <td>4918</td>\n",
       "    </tr>\n",
       "  </tbody>\n",
       "</table>\n",
       "</div>"
      ],
      "text/plain": [
       "             date_time is_holiday  air_pollution_index  humidity  wind_speed  \\\n",
       "0  2012-10-02 09:00:00       None                  121        89           2   \n",
       "1  2012-10-02 10:00:00       None                  178        67           3   \n",
       "2  2012-10-02 11:00:00       None                  113        66           3   \n",
       "3  2012-10-02 12:00:00       None                   20        66           3   \n",
       "4  2012-10-02 13:00:00       None                  281        65           3   \n",
       "\n",
       "   wind_direction  visibility_in_miles  dew_point  temperature  rain_p_h  \\\n",
       "0             329                    1          1       288.28       0.0   \n",
       "1             330                    1          1       289.36       0.0   \n",
       "2             329                    2          2       289.58       0.0   \n",
       "3             329                    5          5       290.13       0.0   \n",
       "4             329                    7          7       291.14       0.0   \n",
       "\n",
       "   snow_p_h  clouds_all weather_type weather_description  traffic_volume  \n",
       "0       0.0          40       Clouds    scattered clouds            5545  \n",
       "1       0.0          75       Clouds       broken clouds            4516  \n",
       "2       0.0          90       Clouds     overcast clouds            4767  \n",
       "3       0.0          90       Clouds     overcast clouds            5026  \n",
       "4       0.0          75       Clouds       broken clouds            4918  "
      ]
     },
     "execution_count": 40,
     "metadata": {},
     "output_type": "execute_result"
    }
   ],
   "source": [
    "train_df.head(5)"
   ]
  },
  {
   "cell_type": "code",
   "execution_count": 41,
   "metadata": {},
   "outputs": [
    {
     "data": {
      "text/plain": [
       "array(['Christmas Day', 'Columbus Day', 'Independence Day', 'Labor Day',\n",
       "       'Martin Luther King Jr Day', 'Memorial Day', 'New Years Day',\n",
       "       'None', 'State Fair', 'Thanksgiving Day', 'Veterans Day',\n",
       "       'Washingtons Birthday'], dtype=object)"
      ]
     },
     "execution_count": 41,
     "metadata": {},
     "output_type": "execute_result"
    }
   ],
   "source": [
    "np.unique(train_df.is_holiday)"
   ]
  },
  {
   "cell_type": "code",
   "execution_count": 42,
   "metadata": {},
   "outputs": [
    {
     "data": {
      "text/plain": [
       "pandas.core.series.Series"
      ]
     },
     "execution_count": 42,
     "metadata": {},
     "output_type": "execute_result"
    }
   ],
   "source": [
    "type(train_df.date_time)"
   ]
  },
  {
   "cell_type": "code",
   "execution_count": 43,
   "metadata": {},
   "outputs": [
    {
     "data": {
      "image/png": "[encoded data removed]",
      "text/plain": [
       "<Figure size 432x288 with 1 Axes>"
      ]
     },
     "metadata": {
      "needs_background": "light"
     },
     "output_type": "display_data"
    }
   ],
   "source": [
    "plt.scatter(train_df.traffic_volume, train_df.is_holiday);"
   ]
  },
  {
   "cell_type": "code",
   "execution_count": 44,
   "metadata": {},
   "outputs": [],
   "source": [
    "target = train_df.traffic_volume"
   ]
  },
  {
   "cell_type": "markdown",
   "metadata": {},
   "source": [
    "#### drop the label and combine both training and test data to process them"
   ]
  },
  {
   "cell_type": "code",
   "execution_count": 45,
   "metadata": {},
   "outputs": [],
   "source": [
    "train_df = train_df.drop(['traffic_volume'], axis = 1)"
   ]
  },
  {
   "cell_type": "code",
   "execution_count": 46,
   "metadata": {},
   "outputs": [
    {
     "data": {
      "text/html": [
       "<div>\n",
       "<style scoped>\n",
       "    .dataframe tbody tr th:only-of-type {\n",
       "        vertical-align: middle;\n",
       "    }\n",
       "\n",
       "    .dataframe tbody tr th {\n",
       "        vertical-align: top;\n",
       "    }\n",
       "\n",
       "    .dataframe thead th {\n",
       "        text-align: right;\n",
       "    }\n",
       "</style>\n",
       "<table border=\"1\" class=\"dataframe\">\n",
       "  <thead>\n",
       "    <tr style=\"text-align: right;\">\n",
       "      <th></th>\n",
       "      <th>date_time</th>\n",
       "      <th>is_holiday</th>\n",
       "      <th>air_pollution_index</th>\n",
       "      <th>humidity</th>\n",
       "      <th>wind_speed</th>\n",
       "      <th>wind_direction</th>\n",
       "      <th>visibility_in_miles</th>\n",
       "      <th>dew_point</th>\n",
       "      <th>temperature</th>\n",
       "      <th>rain_p_h</th>\n",
       "      <th>snow_p_h</th>\n",
       "      <th>clouds_all</th>\n",
       "      <th>weather_type</th>\n",
       "      <th>weather_description</th>\n",
       "    </tr>\n",
       "  </thead>\n",
       "  <tbody>\n",
       "    <tr>\n",
       "      <th>0</th>\n",
       "      <td>2012-10-02 09:00:00</td>\n",
       "      <td>None</td>\n",
       "      <td>121</td>\n",
       "      <td>89</td>\n",
       "      <td>2</td>\n",
       "      <td>329</td>\n",
       "      <td>1</td>\n",
       "      <td>1</td>\n",
       "      <td>288.28</td>\n",
       "      <td>0.0</td>\n",
       "      <td>0.0</td>\n",
       "      <td>40</td>\n",
       "      <td>Clouds</td>\n",
       "      <td>scattered clouds</td>\n",
       "    </tr>\n",
       "    <tr>\n",
       "      <th>1</th>\n",
       "      <td>2012-10-02 10:00:00</td>\n",
       "      <td>None</td>\n",
       "      <td>178</td>\n",
       "      <td>67</td>\n",
       "      <td>3</td>\n",
       "      <td>330</td>\n",
       "      <td>1</td>\n",
       "      <td>1</td>\n",
       "      <td>289.36</td>\n",
       "      <td>0.0</td>\n",
       "      <td>0.0</td>\n",
       "      <td>75</td>\n",
       "      <td>Clouds</td>\n",
       "      <td>broken clouds</td>\n",
       "    </tr>\n",
       "    <tr>\n",
       "      <th>2</th>\n",
       "      <td>2012-10-02 11:00:00</td>\n",
       "      <td>None</td>\n",
       "      <td>113</td>\n",
       "      <td>66</td>\n",
       "      <td>3</td>\n",
       "      <td>329</td>\n",
       "      <td>2</td>\n",
       "      <td>2</td>\n",
       "      <td>289.58</td>\n",
       "      <td>0.0</td>\n",
       "      <td>0.0</td>\n",
       "      <td>90</td>\n",
       "      <td>Clouds</td>\n",
       "      <td>overcast clouds</td>\n",
       "    </tr>\n",
       "  </tbody>\n",
       "</table>\n",
       "</div>"
      ],
      "text/plain": [
       "             date_time is_holiday  air_pollution_index  humidity  wind_speed  \\\n",
       "0  2012-10-02 09:00:00       None                  121        89           2   \n",
       "1  2012-10-02 10:00:00       None                  178        67           3   \n",
       "2  2012-10-02 11:00:00       None                  113        66           3   \n",
       "\n",
       "   wind_direction  visibility_in_miles  dew_point  temperature  rain_p_h  \\\n",
       "0             329                    1          1       288.28       0.0   \n",
       "1             330                    1          1       289.36       0.0   \n",
       "2             329                    2          2       289.58       0.0   \n",
       "\n",
       "   snow_p_h  clouds_all weather_type weather_description  \n",
       "0       0.0          40       Clouds    scattered clouds  \n",
       "1       0.0          75       Clouds       broken clouds  \n",
       "2       0.0          90       Clouds     overcast clouds  "
      ]
     },
     "execution_count": 46,
     "metadata": {},
     "output_type": "execute_result"
    }
   ],
   "source": [
    "train_df.head(3)"
   ]
  },
  {
   "cell_type": "code",
   "execution_count": 47,
   "metadata": {},
   "outputs": [
    {
     "data": {
      "text/plain": [
       "(33750, 14)"
      ]
     },
     "execution_count": 47,
     "metadata": {},
     "output_type": "execute_result"
    }
   ],
   "source": [
    "train_df.shape"
   ]
  },
  {
   "cell_type": "code",
   "execution_count": 48,
   "metadata": {},
   "outputs": [],
   "source": [
    "combined = train_df.append(test_df)"
   ]
  },
  {
   "cell_type": "code",
   "execution_count": 49,
   "metadata": {},
   "outputs": [
    {
     "data": {
      "text/plain": [
       "(48204, 14)"
      ]
     },
     "execution_count": 49,
     "metadata": {},
     "output_type": "execute_result"
    }
   ],
   "source": [
    "combined.shape"
   ]
  },
  {
   "cell_type": "code",
   "execution_count": 50,
   "metadata": {},
   "outputs": [
    {
     "data": {
      "text/html": [
       "<div>\n",
       "<style scoped>\n",
       "    .dataframe tbody tr th:only-of-type {\n",
       "        vertical-align: middle;\n",
       "    }\n",
       "\n",
       "    .dataframe tbody tr th {\n",
       "        vertical-align: top;\n",
       "    }\n",
       "\n",
       "    .dataframe thead th {\n",
       "        text-align: right;\n",
       "    }\n",
       "</style>\n",
       "<table border=\"1\" class=\"dataframe\">\n",
       "  <thead>\n",
       "    <tr style=\"text-align: right;\">\n",
       "      <th></th>\n",
       "      <th>air_pollution_index</th>\n",
       "      <th>humidity</th>\n",
       "      <th>wind_speed</th>\n",
       "      <th>wind_direction</th>\n",
       "      <th>visibility_in_miles</th>\n",
       "      <th>dew_point</th>\n",
       "      <th>temperature</th>\n",
       "      <th>rain_p_h</th>\n",
       "      <th>snow_p_h</th>\n",
       "      <th>clouds_all</th>\n",
       "    </tr>\n",
       "  </thead>\n",
       "  <tbody>\n",
       "    <tr>\n",
       "      <th>count</th>\n",
       "      <td>48204.000000</td>\n",
       "      <td>48204.000000</td>\n",
       "      <td>48204.000000</td>\n",
       "      <td>48204.000000</td>\n",
       "      <td>48204.000000</td>\n",
       "      <td>48204.000000</td>\n",
       "      <td>48204.000000</td>\n",
       "      <td>48204.000000</td>\n",
       "      <td>48204.000000</td>\n",
       "      <td>48204.000000</td>\n",
       "    </tr>\n",
       "    <tr>\n",
       "      <th>mean</th>\n",
       "      <td>154.792839</td>\n",
       "      <td>70.196975</td>\n",
       "      <td>3.446892</td>\n",
       "      <td>202.414426</td>\n",
       "      <td>4.994482</td>\n",
       "      <td>4.994482</td>\n",
       "      <td>281.205870</td>\n",
       "      <td>0.334264</td>\n",
       "      <td>0.000222</td>\n",
       "      <td>49.362231</td>\n",
       "    </tr>\n",
       "    <tr>\n",
       "      <th>std</th>\n",
       "      <td>83.635832</td>\n",
       "      <td>18.311794</td>\n",
       "      <td>2.106499</td>\n",
       "      <td>98.515144</td>\n",
       "      <td>2.574889</td>\n",
       "      <td>2.574889</td>\n",
       "      <td>13.338232</td>\n",
       "      <td>44.789133</td>\n",
       "      <td>0.008168</td>\n",
       "      <td>39.015750</td>\n",
       "    </tr>\n",
       "    <tr>\n",
       "      <th>min</th>\n",
       "      <td>10.000000</td>\n",
       "      <td>10.000000</td>\n",
       "      <td>0.000000</td>\n",
       "      <td>0.000000</td>\n",
       "      <td>1.000000</td>\n",
       "      <td>1.000000</td>\n",
       "      <td>0.000000</td>\n",
       "      <td>0.000000</td>\n",
       "      <td>0.000000</td>\n",
       "      <td>0.000000</td>\n",
       "    </tr>\n",
       "    <tr>\n",
       "      <th>25%</th>\n",
       "      <td>83.000000</td>\n",
       "      <td>59.000000</td>\n",
       "      <td>2.000000</td>\n",
       "      <td>134.000000</td>\n",
       "      <td>3.000000</td>\n",
       "      <td>3.000000</td>\n",
       "      <td>272.160000</td>\n",
       "      <td>0.000000</td>\n",
       "      <td>0.000000</td>\n",
       "      <td>1.000000</td>\n",
       "    </tr>\n",
       "    <tr>\n",
       "      <th>50%</th>\n",
       "      <td>155.000000</td>\n",
       "      <td>72.000000</td>\n",
       "      <td>3.000000</td>\n",
       "      <td>202.000000</td>\n",
       "      <td>5.000000</td>\n",
       "      <td>5.000000</td>\n",
       "      <td>282.450000</td>\n",
       "      <td>0.000000</td>\n",
       "      <td>0.000000</td>\n",
       "      <td>64.000000</td>\n",
       "    </tr>\n",
       "    <tr>\n",
       "      <th>75%</th>\n",
       "      <td>227.000000</td>\n",
       "      <td>85.000000</td>\n",
       "      <td>5.000000</td>\n",
       "      <td>290.000000</td>\n",
       "      <td>7.000000</td>\n",
       "      <td>7.000000</td>\n",
       "      <td>291.806000</td>\n",
       "      <td>0.000000</td>\n",
       "      <td>0.000000</td>\n",
       "      <td>90.000000</td>\n",
       "    </tr>\n",
       "    <tr>\n",
       "      <th>max</th>\n",
       "      <td>299.000000</td>\n",
       "      <td>100.000000</td>\n",
       "      <td>16.000000</td>\n",
       "      <td>360.000000</td>\n",
       "      <td>9.000000</td>\n",
       "      <td>9.000000</td>\n",
       "      <td>310.070000</td>\n",
       "      <td>9831.300000</td>\n",
       "      <td>0.510000</td>\n",
       "      <td>100.000000</td>\n",
       "    </tr>\n",
       "  </tbody>\n",
       "</table>\n",
       "</div>"
      ],
      "text/plain": [
       "       air_pollution_index      humidity    wind_speed  wind_direction  \\\n",
       "count         48204.000000  48204.000000  48204.000000    48204.000000   \n",
       "mean            154.792839     70.196975      3.446892      202.414426   \n",
       "std              83.635832     18.311794      2.106499       98.515144   \n",
       "min              10.000000     10.000000      0.000000        0.000000   \n",
       "25%              83.000000     59.000000      2.000000      134.000000   \n",
       "50%             155.000000     72.000000      3.000000      202.000000   \n",
       "75%             227.000000     85.000000      5.000000      290.000000   \n",
       "max             299.000000    100.000000     16.000000      360.000000   \n",
       "\n",
       "       visibility_in_miles     dew_point   temperature      rain_p_h  \\\n",
       "count         48204.000000  48204.000000  48204.000000  48204.000000   \n",
       "mean              4.994482      4.994482    281.205870      0.334264   \n",
       "std               2.574889      2.574889     13.338232     44.789133   \n",
       "min               1.000000      1.000000      0.000000      0.000000   \n",
       "25%               3.000000      3.000000    272.160000      0.000000   \n",
       "50%               5.000000      5.000000    282.450000      0.000000   \n",
       "75%               7.000000      7.000000    291.806000      0.000000   \n",
       "max               9.000000      9.000000    310.070000   9831.300000   \n",
       "\n",
       "           snow_p_h    clouds_all  \n",
       "count  48204.000000  48204.000000  \n",
       "mean       0.000222     49.362231  \n",
       "std        0.008168     39.015750  \n",
       "min        0.000000      0.000000  \n",
       "25%        0.000000      1.000000  \n",
       "50%        0.000000     64.000000  \n",
       "75%        0.000000     90.000000  \n",
       "max        0.510000    100.000000  "
      ]
     },
     "execution_count": 50,
     "metadata": {},
     "output_type": "execute_result"
    }
   ],
   "source": [
    "combined.describe()"
   ]
  },
  {
   "cell_type": "markdown",
   "metadata": {},
   "source": [
    "### seperate the categorical and numerical data"
   ]
  },
  {
   "cell_type": "code",
   "execution_count": 76,
   "metadata": {},
   "outputs": [],
   "source": [
    "numerical = combined.select_dtypes(include=['number'])\n",
    "categorical = combined.select_dtypes(include=['object'])"
   ]
  },
  {
   "cell_type": "code",
   "execution_count": 77,
   "metadata": {},
   "outputs": [
    {
     "data": {
      "text/html": [
       "<div>\n",
       "<style scoped>\n",
       "    .dataframe tbody tr th:only-of-type {\n",
       "        vertical-align: middle;\n",
       "    }\n",
       "\n",
       "    .dataframe tbody tr th {\n",
       "        vertical-align: top;\n",
       "    }\n",
       "\n",
       "    .dataframe thead th {\n",
       "        text-align: right;\n",
       "    }\n",
       "</style>\n",
       "<table border=\"1\" class=\"dataframe\">\n",
       "  <thead>\n",
       "    <tr style=\"text-align: right;\">\n",
       "      <th></th>\n",
       "      <th>air_pollution_index</th>\n",
       "      <th>humidity</th>\n",
       "      <th>wind_speed</th>\n",
       "      <th>wind_direction</th>\n",
       "      <th>visibility_in_miles</th>\n",
       "      <th>dew_point</th>\n",
       "      <th>temperature</th>\n",
       "      <th>rain_p_h</th>\n",
       "      <th>snow_p_h</th>\n",
       "      <th>clouds_all</th>\n",
       "    </tr>\n",
       "  </thead>\n",
       "  <tbody>\n",
       "    <tr>\n",
       "      <th>0</th>\n",
       "      <td>121</td>\n",
       "      <td>89</td>\n",
       "      <td>2</td>\n",
       "      <td>329</td>\n",
       "      <td>1</td>\n",
       "      <td>1</td>\n",
       "      <td>288.28</td>\n",
       "      <td>0.0</td>\n",
       "      <td>0.0</td>\n",
       "      <td>40</td>\n",
       "    </tr>\n",
       "    <tr>\n",
       "      <th>1</th>\n",
       "      <td>178</td>\n",
       "      <td>67</td>\n",
       "      <td>3</td>\n",
       "      <td>330</td>\n",
       "      <td>1</td>\n",
       "      <td>1</td>\n",
       "      <td>289.36</td>\n",
       "      <td>0.0</td>\n",
       "      <td>0.0</td>\n",
       "      <td>75</td>\n",
       "    </tr>\n",
       "    <tr>\n",
       "      <th>2</th>\n",
       "      <td>113</td>\n",
       "      <td>66</td>\n",
       "      <td>3</td>\n",
       "      <td>329</td>\n",
       "      <td>2</td>\n",
       "      <td>2</td>\n",
       "      <td>289.58</td>\n",
       "      <td>0.0</td>\n",
       "      <td>0.0</td>\n",
       "      <td>90</td>\n",
       "    </tr>\n",
       "    <tr>\n",
       "      <th>3</th>\n",
       "      <td>20</td>\n",
       "      <td>66</td>\n",
       "      <td>3</td>\n",
       "      <td>329</td>\n",
       "      <td>5</td>\n",
       "      <td>5</td>\n",
       "      <td>290.13</td>\n",
       "      <td>0.0</td>\n",
       "      <td>0.0</td>\n",
       "      <td>90</td>\n",
       "    </tr>\n",
       "    <tr>\n",
       "      <th>4</th>\n",
       "      <td>281</td>\n",
       "      <td>65</td>\n",
       "      <td>3</td>\n",
       "      <td>329</td>\n",
       "      <td>7</td>\n",
       "      <td>7</td>\n",
       "      <td>291.14</td>\n",
       "      <td>0.0</td>\n",
       "      <td>0.0</td>\n",
       "      <td>75</td>\n",
       "    </tr>\n",
       "  </tbody>\n",
       "</table>\n",
       "</div>"
      ],
      "text/plain": [
       "   air_pollution_index  humidity  wind_speed  wind_direction  \\\n",
       "0                  121        89           2             329   \n",
       "1                  178        67           3             330   \n",
       "2                  113        66           3             329   \n",
       "3                   20        66           3             329   \n",
       "4                  281        65           3             329   \n",
       "\n",
       "   visibility_in_miles  dew_point  temperature  rain_p_h  snow_p_h  clouds_all  \n",
       "0                    1          1       288.28       0.0       0.0          40  \n",
       "1                    1          1       289.36       0.0       0.0          75  \n",
       "2                    2          2       289.58       0.0       0.0          90  \n",
       "3                    5          5       290.13       0.0       0.0          90  \n",
       "4                    7          7       291.14       0.0       0.0          75  "
      ]
     },
     "execution_count": 77,
     "metadata": {},
     "output_type": "execute_result"
    }
   ],
   "source": [
    "numerical.head(5)"
   ]
  },
  {
   "cell_type": "code",
   "execution_count": 78,
   "metadata": {},
   "outputs": [
    {
     "data": {
      "text/html": [
       "<div>\n",
       "<style scoped>\n",
       "    .dataframe tbody tr th:only-of-type {\n",
       "        vertical-align: middle;\n",
       "    }\n",
       "\n",
       "    .dataframe tbody tr th {\n",
       "        vertical-align: top;\n",
       "    }\n",
       "\n",
       "    .dataframe thead th {\n",
       "        text-align: right;\n",
       "    }\n",
       "</style>\n",
       "<table border=\"1\" class=\"dataframe\">\n",
       "  <thead>\n",
       "    <tr style=\"text-align: right;\">\n",
       "      <th></th>\n",
       "      <th>date_time</th>\n",
       "      <th>is_holiday</th>\n",
       "      <th>weather_type</th>\n",
       "      <th>weather_description</th>\n",
       "    </tr>\n",
       "  </thead>\n",
       "  <tbody>\n",
       "    <tr>\n",
       "      <th>0</th>\n",
       "      <td>2012-10-02 09:00:00</td>\n",
       "      <td>None</td>\n",
       "      <td>Clouds</td>\n",
       "      <td>scattered clouds</td>\n",
       "    </tr>\n",
       "    <tr>\n",
       "      <th>1</th>\n",
       "      <td>2012-10-02 10:00:00</td>\n",
       "      <td>None</td>\n",
       "      <td>Clouds</td>\n",
       "      <td>broken clouds</td>\n",
       "    </tr>\n",
       "    <tr>\n",
       "      <th>2</th>\n",
       "      <td>2012-10-02 11:00:00</td>\n",
       "      <td>None</td>\n",
       "      <td>Clouds</td>\n",
       "      <td>overcast clouds</td>\n",
       "    </tr>\n",
       "    <tr>\n",
       "      <th>3</th>\n",
       "      <td>2012-10-02 12:00:00</td>\n",
       "      <td>None</td>\n",
       "      <td>Clouds</td>\n",
       "      <td>overcast clouds</td>\n",
       "    </tr>\n",
       "  </tbody>\n",
       "</table>\n",
       "</div>"
      ],
      "text/plain": [
       "             date_time is_holiday weather_type weather_description\n",
       "0  2012-10-02 09:00:00       None       Clouds    scattered clouds\n",
       "1  2012-10-02 10:00:00       None       Clouds       broken clouds\n",
       "2  2012-10-02 11:00:00       None       Clouds     overcast clouds\n",
       "3  2012-10-02 12:00:00       None       Clouds     overcast clouds"
      ]
     },
     "execution_count": 78,
     "metadata": {},
     "output_type": "execute_result"
    }
   ],
   "source": [
    "categorical.head(4)"
   ]
  },
  {
   "cell_type": "code",
   "execution_count": 79,
   "metadata": {},
   "outputs": [
    {
     "name": "stdout",
     "output_type": "stream",
     "text": [
      "(48204, 10) (48204, 4)\n"
     ]
    }
   ],
   "source": [
    "print(numerical.shape, categorical.shape)"
   ]
  },
  {
   "cell_type": "code",
   "execution_count": 80,
   "metadata": {},
   "outputs": [
    {
     "data": {
      "text/plain": [
       "(array(['Clear', 'Clouds', 'Drizzle', 'Fog', 'Haze', 'Mist', 'Rain',\n",
       "        'Smoke', 'Snow', 'Squall', 'Thunderstorm'], dtype=object),\n",
       " array([13391, 15164,  1821,   912,  1360,  5950,  5672,    20,  2876,\n",
       "            4,  1034]))"
      ]
     },
     "execution_count": 80,
     "metadata": {},
     "output_type": "execute_result"
    }
   ],
   "source": [
    "np.unique(combined.weather_type, return_counts=True)"
   ]
  },
  {
   "cell_type": "code",
   "execution_count": 81,
   "metadata": {},
   "outputs": [
    {
     "data": {
      "image/png": "[encoded data removed]",
      "text/plain": [
       "<Figure size 432x288 with 1 Axes>"
      ]
     },
     "metadata": {
      "needs_background": "light"
     },
     "output_type": "display_data"
    }
   ],
   "source": [
    "plt.scatter(target, train_df.weather_type);"
   ]
  },
  {
   "cell_type": "code",
   "execution_count": 82,
   "metadata": {},
   "outputs": [],
   "source": [
    "date_time = categorical.date_time"
   ]
  },
  {
   "cell_type": "code",
   "execution_count": 83,
   "metadata": {},
   "outputs": [],
   "source": [
    "categorical = categorical.drop(['date_time'], axis = 1)"
   ]
  },
  {
   "cell_type": "code",
   "execution_count": 84,
   "metadata": {},
   "outputs": [
    {
     "data": {
      "text/html": [
       "<div>\n",
       "<style scoped>\n",
       "    .dataframe tbody tr th:only-of-type {\n",
       "        vertical-align: middle;\n",
       "    }\n",
       "\n",
       "    .dataframe tbody tr th {\n",
       "        vertical-align: top;\n",
       "    }\n",
       "\n",
       "    .dataframe thead th {\n",
       "        text-align: right;\n",
       "    }\n",
       "</style>\n",
       "<table border=\"1\" class=\"dataframe\">\n",
       "  <thead>\n",
       "    <tr style=\"text-align: right;\">\n",
       "      <th></th>\n",
       "      <th>is_holiday</th>\n",
       "      <th>weather_type</th>\n",
       "      <th>weather_description</th>\n",
       "    </tr>\n",
       "  </thead>\n",
       "  <tbody>\n",
       "    <tr>\n",
       "      <th>0</th>\n",
       "      <td>None</td>\n",
       "      <td>Clouds</td>\n",
       "      <td>scattered clouds</td>\n",
       "    </tr>\n",
       "    <tr>\n",
       "      <th>1</th>\n",
       "      <td>None</td>\n",
       "      <td>Clouds</td>\n",
       "      <td>broken clouds</td>\n",
       "    </tr>\n",
       "    <tr>\n",
       "      <th>2</th>\n",
       "      <td>None</td>\n",
       "      <td>Clouds</td>\n",
       "      <td>overcast clouds</td>\n",
       "    </tr>\n",
       "    <tr>\n",
       "      <th>3</th>\n",
       "      <td>None</td>\n",
       "      <td>Clouds</td>\n",
       "      <td>overcast clouds</td>\n",
       "    </tr>\n",
       "    <tr>\n",
       "      <th>4</th>\n",
       "      <td>None</td>\n",
       "      <td>Clouds</td>\n",
       "      <td>broken clouds</td>\n",
       "    </tr>\n",
       "  </tbody>\n",
       "</table>\n",
       "</div>"
      ],
      "text/plain": [
       "  is_holiday weather_type weather_description\n",
       "0       None       Clouds    scattered clouds\n",
       "1       None       Clouds       broken clouds\n",
       "2       None       Clouds     overcast clouds\n",
       "3       None       Clouds     overcast clouds\n",
       "4       None       Clouds       broken clouds"
      ]
     },
     "execution_count": 84,
     "metadata": {},
     "output_type": "execute_result"
    }
   ],
   "source": [
    "categorical.head()"
   ]
  },
  {
   "cell_type": "code",
   "execution_count": 172,
   "metadata": {},
   "outputs": [],
   "source": [
    "categorical_ = pd.get_dummies(categorical)"
   ]
  },
  {
   "cell_type": "code",
   "execution_count": 173,
   "metadata": {},
   "outputs": [
    {
     "data": {
      "text/html": [
       "<div>\n",
       "<style scoped>\n",
       "    .dataframe tbody tr th:only-of-type {\n",
       "        vertical-align: middle;\n",
       "    }\n",
       "\n",
       "    .dataframe tbody tr th {\n",
       "        vertical-align: top;\n",
       "    }\n",
       "\n",
       "    .dataframe thead th {\n",
       "        text-align: right;\n",
       "    }\n",
       "</style>\n",
       "<table border=\"1\" class=\"dataframe\">\n",
       "  <thead>\n",
       "    <tr style=\"text-align: right;\">\n",
       "      <th></th>\n",
       "      <th>is_holiday_Christmas Day</th>\n",
       "      <th>is_holiday_Columbus Day</th>\n",
       "      <th>is_holiday_Independence Day</th>\n",
       "      <th>is_holiday_Labor Day</th>\n",
       "      <th>is_holiday_Martin Luther King Jr Day</th>\n",
       "      <th>is_holiday_Memorial Day</th>\n",
       "      <th>is_holiday_New Years Day</th>\n",
       "      <th>is_holiday_None</th>\n",
       "      <th>is_holiday_State Fair</th>\n",
       "      <th>is_holiday_Thanksgiving Day</th>\n",
       "      <th>...</th>\n",
       "      <th>weather_description_sleet</th>\n",
       "      <th>weather_description_smoke</th>\n",
       "      <th>weather_description_snow</th>\n",
       "      <th>weather_description_thunderstorm</th>\n",
       "      <th>weather_description_thunderstorm with drizzle</th>\n",
       "      <th>weather_description_thunderstorm with heavy rain</th>\n",
       "      <th>weather_description_thunderstorm with light drizzle</th>\n",
       "      <th>weather_description_thunderstorm with light rain</th>\n",
       "      <th>weather_description_thunderstorm with rain</th>\n",
       "      <th>weather_description_very heavy rain</th>\n",
       "    </tr>\n",
       "  </thead>\n",
       "  <tbody>\n",
       "    <tr>\n",
       "      <th>0</th>\n",
       "      <td>0</td>\n",
       "      <td>0</td>\n",
       "      <td>0</td>\n",
       "      <td>0</td>\n",
       "      <td>0</td>\n",
       "      <td>0</td>\n",
       "      <td>0</td>\n",
       "      <td>1</td>\n",
       "      <td>0</td>\n",
       "      <td>0</td>\n",
       "      <td>...</td>\n",
       "      <td>0</td>\n",
       "      <td>0</td>\n",
       "      <td>0</td>\n",
       "      <td>0</td>\n",
       "      <td>0</td>\n",
       "      <td>0</td>\n",
       "      <td>0</td>\n",
       "      <td>0</td>\n",
       "      <td>0</td>\n",
       "      <td>0</td>\n",
       "    </tr>\n",
       "    <tr>\n",
       "      <th>1</th>\n",
       "      <td>0</td>\n",
       "      <td>0</td>\n",
       "      <td>0</td>\n",
       "      <td>0</td>\n",
       "      <td>0</td>\n",
       "      <td>0</td>\n",
       "      <td>0</td>\n",
       "      <td>1</td>\n",
       "      <td>0</td>\n",
       "      <td>0</td>\n",
       "      <td>...</td>\n",
       "      <td>0</td>\n",
       "      <td>0</td>\n",
       "      <td>0</td>\n",
       "      <td>0</td>\n",
       "      <td>0</td>\n",
       "      <td>0</td>\n",
       "      <td>0</td>\n",
       "      <td>0</td>\n",
       "      <td>0</td>\n",
       "      <td>0</td>\n",
       "    </tr>\n",
       "    <tr>\n",
       "      <th>2</th>\n",
       "      <td>0</td>\n",
       "      <td>0</td>\n",
       "      <td>0</td>\n",
       "      <td>0</td>\n",
       "      <td>0</td>\n",
       "      <td>0</td>\n",
       "      <td>0</td>\n",
       "      <td>1</td>\n",
       "      <td>0</td>\n",
       "      <td>0</td>\n",
       "      <td>...</td>\n",
       "      <td>0</td>\n",
       "      <td>0</td>\n",
       "      <td>0</td>\n",
       "      <td>0</td>\n",
       "      <td>0</td>\n",
       "      <td>0</td>\n",
       "      <td>0</td>\n",
       "      <td>0</td>\n",
       "      <td>0</td>\n",
       "      <td>0</td>\n",
       "    </tr>\n",
       "    <tr>\n",
       "      <th>3</th>\n",
       "      <td>0</td>\n",
       "      <td>0</td>\n",
       "      <td>0</td>\n",
       "      <td>0</td>\n",
       "      <td>0</td>\n",
       "      <td>0</td>\n",
       "      <td>0</td>\n",
       "      <td>1</td>\n",
       "      <td>0</td>\n",
       "      <td>0</td>\n",
       "      <td>...</td>\n",
       "      <td>0</td>\n",
       "      <td>0</td>\n",
       "      <td>0</td>\n",
       "      <td>0</td>\n",
       "      <td>0</td>\n",
       "      <td>0</td>\n",
       "      <td>0</td>\n",
       "      <td>0</td>\n",
       "      <td>0</td>\n",
       "      <td>0</td>\n",
       "    </tr>\n",
       "    <tr>\n",
       "      <th>4</th>\n",
       "      <td>0</td>\n",
       "      <td>0</td>\n",
       "      <td>0</td>\n",
       "      <td>0</td>\n",
       "      <td>0</td>\n",
       "      <td>0</td>\n",
       "      <td>0</td>\n",
       "      <td>1</td>\n",
       "      <td>0</td>\n",
       "      <td>0</td>\n",
       "      <td>...</td>\n",
       "      <td>0</td>\n",
       "      <td>0</td>\n",
       "      <td>0</td>\n",
       "      <td>0</td>\n",
       "      <td>0</td>\n",
       "      <td>0</td>\n",
       "      <td>0</td>\n",
       "      <td>0</td>\n",
       "      <td>0</td>\n",
       "      <td>0</td>\n",
       "    </tr>\n",
       "  </tbody>\n",
       "</table>\n",
       "<p>5 rows × 61 columns</p>\n",
       "</div>"
      ],
      "text/plain": [
       "   is_holiday_Christmas Day  is_holiday_Columbus Day  \\\n",
       "0                         0                        0   \n",
       "1                         0                        0   \n",
       "2                         0                        0   \n",
       "3                         0                        0   \n",
       "4                         0                        0   \n",
       "\n",
       "   is_holiday_Independence Day  is_holiday_Labor Day  \\\n",
       "0                            0                     0   \n",
       "1                            0                     0   \n",
       "2                            0                     0   \n",
       "3                            0                     0   \n",
       "4                            0                     0   \n",
       "\n",
       "   is_holiday_Martin Luther King Jr Day  is_holiday_Memorial Day  \\\n",
       "0                                     0                        0   \n",
       "1                                     0                        0   \n",
       "2                                     0                        0   \n",
       "3                                     0                        0   \n",
       "4                                     0                        0   \n",
       "\n",
       "   is_holiday_New Years Day  is_holiday_None  is_holiday_State Fair  \\\n",
       "0                         0                1                      0   \n",
       "1                         0                1                      0   \n",
       "2                         0                1                      0   \n",
       "3                         0                1                      0   \n",
       "4                         0                1                      0   \n",
       "\n",
       "   is_holiday_Thanksgiving Day  ...  weather_description_sleet  \\\n",
       "0                            0  ...                          0   \n",
       "1                            0  ...                          0   \n",
       "2                            0  ...                          0   \n",
       "3                            0  ...                          0   \n",
       "4                            0  ...                          0   \n",
       "\n",
       "   weather_description_smoke  weather_description_snow  \\\n",
       "0                          0                         0   \n",
       "1                          0                         0   \n",
       "2                          0                         0   \n",
       "3                          0                         0   \n",
       "4                          0                         0   \n",
       "\n",
       "   weather_description_thunderstorm  \\\n",
       "0                                 0   \n",
       "1                                 0   \n",
       "2                                 0   \n",
       "3                                 0   \n",
       "4                                 0   \n",
       "\n",
       "   weather_description_thunderstorm with drizzle  \\\n",
       "0                                              0   \n",
       "1                                              0   \n",
       "2                                              0   \n",
       "3                                              0   \n",
       "4                                              0   \n",
       "\n",
       "   weather_description_thunderstorm with heavy rain  \\\n",
       "0                                                 0   \n",
       "1                                                 0   \n",
       "2                                                 0   \n",
       "3                                                 0   \n",
       "4                                                 0   \n",
       "\n",
       "   weather_description_thunderstorm with light drizzle  \\\n",
       "0                                                  0     \n",
       "1                                                  0     \n",
       "2                                                  0     \n",
       "3                                                  0     \n",
       "4                                                  0     \n",
       "\n",
       "   weather_description_thunderstorm with light rain  \\\n",
       "0                                                 0   \n",
       "1                                                 0   \n",
       "2                                                 0   \n",
       "3                                                 0   \n",
       "4                                                 0   \n",
       "\n",
       "   weather_description_thunderstorm with rain  \\\n",
       "0                                           0   \n",
       "1                                           0   \n",
       "2                                           0   \n",
       "3                                           0   \n",
       "4                                           0   \n",
       "\n",
       "   weather_description_very heavy rain  \n",
       "0                                    0  \n",
       "1                                    0  \n",
       "2                                    0  \n",
       "3                                    0  \n",
       "4                                    0  \n",
       "\n",
       "[5 rows x 61 columns]"
      ]
     },
     "execution_count": 173,
     "metadata": {},
     "output_type": "execute_result"
    }
   ],
   "source": [
    "categorical_.head()"
   ]
  },
  {
   "cell_type": "code",
   "execution_count": 174,
   "metadata": {},
   "outputs": [
    {
     "data": {
      "text/plain": [
       "pandas.core.series.Series"
      ]
     },
     "execution_count": 174,
     "metadata": {},
     "output_type": "execute_result"
    }
   ],
   "source": [
    "type(train_df.date_time)"
   ]
  },
  {
   "cell_type": "code",
   "execution_count": 175,
   "metadata": {},
   "outputs": [],
   "source": [
    "date_time = pd.to_datetime(data_time)"
   ]
  },
  {
   "cell_type": "code",
   "execution_count": 178,
   "metadata": {},
   "outputs": [
    {
     "data": {
      "text/plain": [
       "48204"
      ]
     },
     "execution_count": 178,
     "metadata": {},
     "output_type": "execute_result"
    }
   ],
   "source": [
    "date_time.shape[0]"
   ]
  },
  {
   "cell_type": "code",
   "execution_count": 179,
   "metadata": {},
   "outputs": [],
   "source": [
    "d = np.empty((date_time.shape[0], 6))"
   ]
  },
  {
   "cell_type": "code",
   "execution_count": 180,
   "metadata": {},
   "outputs": [],
   "source": [
    "d[:, 0] = date_time.dt.year\n",
    "d[:, 1] = date_time.dt.month\n",
    "d[:, 2] = date_time.dt.day\n",
    "d[:, 3] = date_time.dt.hour\n",
    "d[:, 4] = date_time.dt.minute\n",
    "d[:, 5] = date_time.dt.second"
   ]
  },
  {
   "cell_type": "code",
   "execution_count": 181,
   "metadata": {},
   "outputs": [],
   "source": [
    "date_df = pd.DataFrame(data = d, columns=['year', 'month', 'data', 'hour', 'minute', 'second'])"
   ]
  },
  {
   "cell_type": "code",
   "execution_count": 182,
   "metadata": {},
   "outputs": [
    {
     "data": {
      "text/html": [
       "<div>\n",
       "<style scoped>\n",
       "    .dataframe tbody tr th:only-of-type {\n",
       "        vertical-align: middle;\n",
       "    }\n",
       "\n",
       "    .dataframe tbody tr th {\n",
       "        vertical-align: top;\n",
       "    }\n",
       "\n",
       "    .dataframe thead th {\n",
       "        text-align: right;\n",
       "    }\n",
       "</style>\n",
       "<table border=\"1\" class=\"dataframe\">\n",
       "  <thead>\n",
       "    <tr style=\"text-align: right;\">\n",
       "      <th></th>\n",
       "      <th>year</th>\n",
       "      <th>month</th>\n",
       "      <th>data</th>\n",
       "      <th>hour</th>\n",
       "      <th>minute</th>\n",
       "      <th>second</th>\n",
       "    </tr>\n",
       "  </thead>\n",
       "  <tbody>\n",
       "    <tr>\n",
       "      <th>0</th>\n",
       "      <td>2012.0</td>\n",
       "      <td>10.0</td>\n",
       "      <td>2.0</td>\n",
       "      <td>9.0</td>\n",
       "      <td>0.0</td>\n",
       "      <td>0.0</td>\n",
       "    </tr>\n",
       "    <tr>\n",
       "      <th>1</th>\n",
       "      <td>2012.0</td>\n",
       "      <td>10.0</td>\n",
       "      <td>2.0</td>\n",
       "      <td>10.0</td>\n",
       "      <td>0.0</td>\n",
       "      <td>0.0</td>\n",
       "    </tr>\n",
       "    <tr>\n",
       "      <th>2</th>\n",
       "      <td>2012.0</td>\n",
       "      <td>10.0</td>\n",
       "      <td>2.0</td>\n",
       "      <td>11.0</td>\n",
       "      <td>0.0</td>\n",
       "      <td>0.0</td>\n",
       "    </tr>\n",
       "    <tr>\n",
       "      <th>3</th>\n",
       "      <td>2012.0</td>\n",
       "      <td>10.0</td>\n",
       "      <td>2.0</td>\n",
       "      <td>12.0</td>\n",
       "      <td>0.0</td>\n",
       "      <td>0.0</td>\n",
       "    </tr>\n",
       "    <tr>\n",
       "      <th>4</th>\n",
       "      <td>2012.0</td>\n",
       "      <td>10.0</td>\n",
       "      <td>2.0</td>\n",
       "      <td>13.0</td>\n",
       "      <td>0.0</td>\n",
       "      <td>0.0</td>\n",
       "    </tr>\n",
       "  </tbody>\n",
       "</table>\n",
       "</div>"
      ],
      "text/plain": [
       "     year  month  data  hour  minute  second\n",
       "0  2012.0   10.0   2.0   9.0     0.0     0.0\n",
       "1  2012.0   10.0   2.0  10.0     0.0     0.0\n",
       "2  2012.0   10.0   2.0  11.0     0.0     0.0\n",
       "3  2012.0   10.0   2.0  12.0     0.0     0.0\n",
       "4  2012.0   10.0   2.0  13.0     0.0     0.0"
      ]
     },
     "execution_count": 182,
     "metadata": {},
     "output_type": "execute_result"
    }
   ],
   "source": [
    "date_df.head()"
   ]
  },
  {
   "cell_type": "code",
   "execution_count": 183,
   "metadata": {},
   "outputs": [],
   "source": [
    "date_df = date_df.drop('minute',axis = 1)"
   ]
  },
  {
   "cell_type": "code",
   "execution_count": 184,
   "metadata": {},
   "outputs": [],
   "source": [
    "date_df = date_df.drop('second',axis = 1)"
   ]
  },
  {
   "cell_type": "code",
   "execution_count": 185,
   "metadata": {},
   "outputs": [
    {
     "data": {
      "text/html": [
       "<div>\n",
       "<style scoped>\n",
       "    .dataframe tbody tr th:only-of-type {\n",
       "        vertical-align: middle;\n",
       "    }\n",
       "\n",
       "    .dataframe tbody tr th {\n",
       "        vertical-align: top;\n",
       "    }\n",
       "\n",
       "    .dataframe thead th {\n",
       "        text-align: right;\n",
       "    }\n",
       "</style>\n",
       "<table border=\"1\" class=\"dataframe\">\n",
       "  <thead>\n",
       "    <tr style=\"text-align: right;\">\n",
       "      <th></th>\n",
       "      <th>year</th>\n",
       "      <th>month</th>\n",
       "      <th>data</th>\n",
       "      <th>hour</th>\n",
       "    </tr>\n",
       "  </thead>\n",
       "  <tbody>\n",
       "    <tr>\n",
       "      <th>0</th>\n",
       "      <td>2012.0</td>\n",
       "      <td>10.0</td>\n",
       "      <td>2.0</td>\n",
       "      <td>9.0</td>\n",
       "    </tr>\n",
       "    <tr>\n",
       "      <th>1</th>\n",
       "      <td>2012.0</td>\n",
       "      <td>10.0</td>\n",
       "      <td>2.0</td>\n",
       "      <td>10.0</td>\n",
       "    </tr>\n",
       "    <tr>\n",
       "      <th>2</th>\n",
       "      <td>2012.0</td>\n",
       "      <td>10.0</td>\n",
       "      <td>2.0</td>\n",
       "      <td>11.0</td>\n",
       "    </tr>\n",
       "    <tr>\n",
       "      <th>3</th>\n",
       "      <td>2012.0</td>\n",
       "      <td>10.0</td>\n",
       "      <td>2.0</td>\n",
       "      <td>12.0</td>\n",
       "    </tr>\n",
       "    <tr>\n",
       "      <th>4</th>\n",
       "      <td>2012.0</td>\n",
       "      <td>10.0</td>\n",
       "      <td>2.0</td>\n",
       "      <td>13.0</td>\n",
       "    </tr>\n",
       "  </tbody>\n",
       "</table>\n",
       "</div>"
      ],
      "text/plain": [
       "     year  month  data  hour\n",
       "0  2012.0   10.0   2.0   9.0\n",
       "1  2012.0   10.0   2.0  10.0\n",
       "2  2012.0   10.0   2.0  11.0\n",
       "3  2012.0   10.0   2.0  12.0\n",
       "4  2012.0   10.0   2.0  13.0"
      ]
     },
     "execution_count": 185,
     "metadata": {},
     "output_type": "execute_result"
    }
   ],
   "source": [
    "date_df.head()"
   ]
  },
  {
   "cell_type": "code",
   "execution_count": 189,
   "metadata": {},
   "outputs": [],
   "source": [
    "combined = pd.concat([numerical, categorical_], axis=1).values"
   ]
  },
  {
   "cell_type": "markdown",
   "metadata": {},
   "source": [
    "#### inpute the null values"
   ]
  },
  {
   "cell_type": "code",
   "execution_count": 190,
   "metadata": {},
   "outputs": [],
   "source": [
    "date_ = date_df.values"
   ]
  },
  {
   "cell_type": "code",
   "execution_count": 191,
   "metadata": {},
   "outputs": [],
   "source": [
    "X =  np.hstack((combined, date_))"
   ]
  },
  {
   "cell_type": "code",
   "execution_count": 192,
   "metadata": {},
   "outputs": [],
   "source": [
    "y = target.values"
   ]
  },
  {
   "cell_type": "code",
   "execution_count": 193,
   "metadata": {},
   "outputs": [],
   "source": [
    "x_train = X[:train_df.shape[0], :]\n",
    "x_test = X[train_df.shape[0]:, :]"
   ]
  },
  {
   "cell_type": "code",
   "execution_count": 194,
   "metadata": {},
   "outputs": [
    {
     "name": "stdout",
     "output_type": "stream",
     "text": [
      "(33750, 75) (33750, 14)\n",
      "(14454, 75) (14454, 14)\n"
     ]
    }
   ],
   "source": [
    "print(x_train.shape, train_df.shape)\n",
    "print(x_test.shape, test_df.shape)"
   ]
  },
  {
   "cell_type": "code",
   "execution_count": 195,
   "metadata": {},
   "outputs": [],
   "source": [
    "x_val = x_train[:1000, :]\n",
    "y_val = y[:1000]\n",
    "x_train = x_train[1000:, :]\n",
    "y_train = y[1000:]"
   ]
  },
  {
   "cell_type": "markdown",
   "metadata": {},
   "source": [
    "## model"
   ]
  },
  {
   "cell_type": "markdown",
   "metadata": {},
   "source": [
    "- dnn model"
   ]
  },
  {
   "cell_type": "code",
   "execution_count": 213,
   "metadata": {},
   "outputs": [],
   "source": [
    "import keras.models as model\n",
    "from keras.layers import Dense"
   ]
  },
  {
   "cell_type": "code",
   "execution_count": 214,
   "metadata": {},
   "outputs": [],
   "source": [
    "# define model\n",
    "model = model.Sequential()\n",
    "model.add(Dense(64, activation='relu', input_shape = (75, )))\n",
    "model.add(Dense(32, activation='relu'))\n",
    "model.add(Dense(16, activation='relu'))\n",
    "model.add(Dense(8, activation='relu'))\n",
    "# model.add(Dense(8, activation='relu'))\n",
    "# model.add(Dense(4, activation='relu'))\n",
    "# model.add(Dense(2, activation='relu'))\n",
    "model.add(Dense(1, activation='linear'))\n",
    "# compile model\n",
    "model.compile(optimizer='adam', loss='mse', metrics=['accuracy'])"
   ]
  },
  {
   "cell_type": "code",
   "execution_count": 215,
   "metadata": {},
   "outputs": [
    {
     "name": "stdout",
     "output_type": "stream",
     "text": [
      "_________________________________________________________________\n",
      "Layer (type)                 Output Shape              Param #   \n",
      "=================================================================\n",
      "dense_17 (Dense)             (None, 64)                4864      \n",
      "_________________________________________________________________\n",
      "dense_18 (Dense)             (None, 32)                2080      \n",
      "_________________________________________________________________\n",
      "dense_19 (Dense)             (None, 16)                528       \n",
      "_________________________________________________________________\n",
      "dense_20 (Dense)             (None, 8)                 136       \n",
      "_________________________________________________________________\n",
      "dense_21 (Dense)             (None, 1)                 9         \n",
      "=================================================================\n",
      "Total params: 7,617\n",
      "Trainable params: 7,617\n",
      "Non-trainable params: 0\n",
      "_________________________________________________________________\n"
     ]
    }
   ],
   "source": [
    "model.summary()"
   ]
  },
  {
   "cell_type": "code",
   "execution_count": 216,
   "metadata": {},
   "outputs": [
    {
     "name": "stdout",
     "output_type": "stream",
     "text": [
      "Train on 32750 samples, validate on 1000 samples\n",
      "Epoch 1/100\n",
      "32750/32750 [==============================] - 1s 39us/step - loss: 11066147.3387 - acc: 2.1374e-04 - val_loss: 6670540.9120 - val_acc: 0.0000e+00\n",
      "Epoch 2/100\n",
      "32750/32750 [==============================] - 0s 11us/step - loss: 4119541.5296 - acc: 1.2214e-04 - val_loss: 4260070.1480 - val_acc: 0.0000e+00\n",
      "Epoch 3/100\n",
      "32750/32750 [==============================] - 0s 11us/step - loss: 3944278.1951 - acc: 3.0534e-05 - val_loss: 4268493.9920 - val_acc: 0.0000e+00\n",
      "Epoch 4/100\n",
      "32750/32750 [==============================] - 0s 10us/step - loss: 3940958.4840 - acc: 6.1069e-05 - val_loss: 4244747.0760 - val_acc: 0.0000e+00\n",
      "Epoch 5/100\n",
      "32750/32750 [==============================] - 0s 11us/step - loss: 3935357.5500 - acc: 2.4427e-04 - val_loss: 4287525.8120 - val_acc: 0.0000e+00\n",
      "Epoch 6/100\n",
      "32750/32750 [==============================] - 0s 10us/step - loss: 3932452.7846 - acc: 1.2214e-04 - val_loss: 4241000.1480 - val_acc: 0.0000e+00\n",
      "Epoch 7/100\n",
      "32750/32750 [==============================] - 0s 10us/step - loss: 3926894.8920 - acc: 1.8321e-04 - val_loss: 4261537.1000 - val_acc: 0.0000e+00\n",
      "Epoch 8/100\n",
      "32750/32750 [==============================] - 0s 11us/step - loss: 3923405.5419 - acc: 1.5267e-04 - val_loss: 4259866.1760 - val_acc: 0.0000e+00\n",
      "Epoch 9/100\n",
      "32750/32750 [==============================] - 0s 11us/step - loss: 3919276.0223 - acc: 1.2214e-04 - val_loss: 4262407.6640 - val_acc: 0.0000e+00\n",
      "Epoch 10/100\n",
      "32750/32750 [==============================] - 0s 10us/step - loss: 3911887.5784 - acc: 1.2214e-04 - val_loss: 4241552.4360 - val_acc: 0.0000e+00\n",
      "Epoch 11/100\n",
      "32750/32750 [==============================] - 0s 10us/step - loss: 3905854.3385 - acc: 1.2214e-04 - val_loss: 4215355.7840 - val_acc: 0.0000e+00\n",
      "Epoch 12/100\n",
      "32750/32750 [==============================] - 0s 11us/step - loss: 3900328.7019 - acc: 2.1374e-04 - val_loss: 4193772.2360 - val_acc: 0.0000e+00\n",
      "Epoch 13/100\n",
      "32750/32750 [==============================] - 0s 11us/step - loss: 3894617.3743 - acc: 2.4427e-04 - val_loss: 4207548.7520 - val_acc: 0.0000e+00\n",
      "Epoch 14/100\n",
      "32750/32750 [==============================] - 0s 11us/step - loss: 3887792.4892 - acc: 1.5267e-04 - val_loss: 4197083.5920 - val_acc: 0.0000e+00\n",
      "Epoch 15/100\n",
      "32750/32750 [==============================] - 0s 11us/step - loss: 3879825.1736 - acc: 2.4427e-04 - val_loss: 4174852.6840 - val_acc: 0.0000e+00\n",
      "Epoch 16/100\n",
      "32750/32750 [==============================] - 0s 10us/step - loss: 3871709.8039 - acc: 1.8321e-04 - val_loss: 4201497.4680 - val_acc: 0.0000e+00\n",
      "Epoch 17/100\n",
      "32750/32750 [==============================] - 0s 11us/step - loss: 3860756.2057 - acc: 6.1069e-05 - val_loss: 4167109.4480 - val_acc: 0.0000e+00\n",
      "Epoch 18/100\n",
      "32750/32750 [==============================] - 0s 11us/step - loss: 3855531.6053 - acc: 1.8321e-04 - val_loss: 4179593.4600 - val_acc: 0.0000e+00\n",
      "Epoch 19/100\n",
      "32750/32750 [==============================] - 0s 11us/step - loss: 3839745.6382 - acc: 1.2214e-04 - val_loss: 4167898.0080 - val_acc: 0.0000e+00\n",
      "Epoch 20/100\n",
      "32750/32750 [==============================] - 0s 11us/step - loss: 3824022.0158 - acc: 1.2214e-04 - val_loss: 4170747.5640 - val_acc: 0.0000e+00\n",
      "Epoch 21/100\n",
      "32750/32750 [==============================] - 0s 11us/step - loss: 3807434.1142 - acc: 9.1603e-05 - val_loss: 4149986.0880 - val_acc: 0.0000e+00\n",
      "Epoch 22/100\n",
      "32750/32750 [==============================] - 0s 11us/step - loss: 3782752.0713 - acc: 1.2214e-04 - val_loss: 4074333.3040 - val_acc: 0.0000e+00\n",
      "Epoch 23/100\n",
      "32750/32750 [==============================] - 0s 10us/step - loss: 3755742.3054 - acc: 6.1069e-05 - val_loss: 4065044.3960 - val_acc: 0.0000e+00\n",
      "Epoch 24/100\n",
      "32750/32750 [==============================] - 0s 11us/step - loss: 3716483.9373 - acc: 9.1603e-05 - val_loss: 4010408.1940 - val_acc: 0.0000e+00\n",
      "Epoch 25/100\n",
      "32750/32750 [==============================] - 0s 14us/step - loss: 3662270.3722 - acc: 6.1069e-05 - val_loss: 3962525.3720 - val_acc: 0.0000e+00\n",
      "Epoch 26/100\n",
      "32750/32750 [==============================] - 0s 11us/step - loss: 3594455.2580 - acc: 1.2214e-04 - val_loss: 3910113.4840 - val_acc: 0.0000e+00\n",
      "Epoch 27/100\n",
      "32750/32750 [==============================] - 0s 11us/step - loss: 3508549.8087 - acc: 1.8321e-04 - val_loss: 3798985.1980 - val_acc: 0.0000e+00\n",
      "Epoch 28/100\n",
      "32750/32750 [==============================] - 0s 10us/step - loss: 3388718.2246 - acc: 3.0534e-05 - val_loss: 3641880.9060 - val_acc: 0.0000e+00\n",
      "Epoch 29/100\n",
      "32750/32750 [==============================] - 0s 11us/step - loss: 3136230.6921 - acc: 9.1603e-05 - val_loss: 3570016.5940 - val_acc: 0.0000e+00\n",
      "Epoch 30/100\n",
      "32750/32750 [==============================] - 0s 10us/step - loss: 2787219.3721 - acc: 1.8321e-04 - val_loss: 2817667.3720 - val_acc: 0.0000e+00\n",
      "Epoch 31/100\n",
      "32750/32750 [==============================] - 0s 11us/step - loss: 2323671.2108 - acc: 6.1069e-05 - val_loss: 2334222.8260 - val_acc: 0.0000e+00\n",
      "Epoch 32/100\n",
      "32750/32750 [==============================] - 0s 10us/step - loss: 1901125.2607 - acc: 1.8321e-04 - val_loss: 1739153.0040 - val_acc: 1.0000e-03\n",
      "Epoch 33/100\n",
      "32750/32750 [==============================] - 0s 14us/step - loss: 1656916.0339 - acc: 3.3588e-04 - val_loss: 1739184.2910 - val_acc: 0.0000e+00\n",
      "Epoch 34/100\n",
      "32750/32750 [==============================] - 0s 12us/step - loss: 1496308.3422 - acc: 3.6641e-04 - val_loss: 1440693.8360 - val_acc: 0.0000e+00\n",
      "Epoch 35/100\n",
      "32750/32750 [==============================] - 0s 15us/step - loss: 1377616.9649 - acc: 7.0229e-04 - val_loss: 1287992.1930 - val_acc: 1.0000e-03\n",
      "Epoch 36/100\n",
      "32750/32750 [==============================] - 0s 14us/step - loss: 1275543.8242 - acc: 3.9695e-04 - val_loss: 1240910.8490 - val_acc: 1.0000e-03\n",
      "Epoch 37/100\n",
      "32750/32750 [==============================] - 0s 11us/step - loss: 1178407.6796 - acc: 5.8015e-04 - val_loss: 1039988.9570 - val_acc: 1.0000e-03\n",
      "Epoch 38/100\n",
      "32750/32750 [==============================] - 0s 11us/step - loss: 1156405.0730 - acc: 5.1908e-04 - val_loss: 1008816.4435 - val_acc: 1.0000e-03\n",
      "Epoch 39/100\n",
      "32750/32750 [==============================] - 1s 18us/step - loss: 1124331.1134 - acc: 5.4962e-04 - val_loss: 988515.7510 - val_acc: 0.0000e+00\n",
      "Epoch 40/100\n",
      "32750/32750 [==============================] - 1s 18us/step - loss: 1097581.9941 - acc: 6.4122e-04 - val_loss: 1040277.3770 - val_acc: 1.0000e-03\n",
      "Epoch 41/100\n",
      "32750/32750 [==============================] - 0s 11us/step - loss: 1095937.3291 - acc: 3.6641e-04 - val_loss: 966699.4260 - val_acc: 1.0000e-03\n",
      "Epoch 42/100\n",
      "32750/32750 [==============================] - 0s 13us/step - loss: 1063411.7318 - acc: 3.9695e-04 - val_loss: 965954.4980 - val_acc: 0.0000e+00\n",
      "Epoch 43/100\n",
      "32750/32750 [==============================] - 0s 13us/step - loss: 1067229.7863 - acc: 3.9695e-04 - val_loss: 997551.2120 - val_acc: 0.0000e+00\n",
      "Epoch 44/100\n",
      "32750/32750 [==============================] - 0s 11us/step - loss: 1040946.9684 - acc: 3.6641e-04 - val_loss: 959015.0175 - val_acc: 0.0020\n",
      "Epoch 45/100\n",
      "32750/32750 [==============================] - 0s 13us/step - loss: 1047335.9477 - acc: 5.8015e-04 - val_loss: 1046842.3900 - val_acc: 0.0000e+00\n",
      "Epoch 46/100\n",
      "32750/32750 [==============================] - 0s 9us/step - loss: 1052403.0714 - acc: 6.1069e-04 - val_loss: 1092196.9010 - val_acc: 0.0000e+00\n",
      "Epoch 47/100\n",
      "32750/32750 [==============================] - 0s 12us/step - loss: 1050923.8566 - acc: 8.2443e-04 - val_loss: 935246.7930 - val_acc: 1.0000e-03\n",
      "Epoch 48/100\n",
      "32750/32750 [==============================] - 0s 10us/step - loss: 1034078.7346 - acc: 5.4962e-04 - val_loss: 930078.9225 - val_acc: 1.0000e-03\n",
      "Epoch 49/100\n",
      "32750/32750 [==============================] - 0s 9us/step - loss: 1034467.6649 - acc: 7.0229e-04 - val_loss: 883414.2075 - val_acc: 0.0000e+00\n",
      "Epoch 50/100\n",
      "32750/32750 [==============================] - 0s 9us/step - loss: 1033137.0961 - acc: 5.1908e-04 - val_loss: 966961.5410 - val_acc: 0.0000e+00\n",
      "Epoch 51/100\n",
      "32750/32750 [==============================] - 0s 10us/step - loss: 1024740.3963 - acc: 6.1069e-04 - val_loss: 919162.1105 - val_acc: 0.0000e+00\n",
      "Epoch 52/100\n"
     ]
    },
    {
     "name": "stdout",
     "output_type": "stream",
     "text": [
      "32750/32750 [==============================] - 0s 11us/step - loss: 1022749.6351 - acc: 6.1069e-04 - val_loss: 892262.2135 - val_acc: 1.0000e-03\n",
      "Epoch 53/100\n",
      "32750/32750 [==============================] - 0s 9us/step - loss: 1028376.1228 - acc: 5.1908e-04 - val_loss: 1002947.5410 - val_acc: 0.0020\n",
      "Epoch 54/100\n",
      "32750/32750 [==============================] - 0s 9us/step - loss: 1021082.5046 - acc: 4.2748e-04 - val_loss: 936619.0090 - val_acc: 1.0000e-03\n",
      "Epoch 55/100\n",
      "32750/32750 [==============================] - 0s 8us/step - loss: 1020539.8088 - acc: 6.4122e-04 - val_loss: 917664.5100 - val_acc: 0.0000e+00\n",
      "Epoch 56/100\n",
      "32750/32750 [==============================] - 0s 9us/step - loss: 1018110.4994 - acc: 6.7176e-04 - val_loss: 920822.5045 - val_acc: 0.0000e+00\n",
      "Epoch 57/100\n",
      "32750/32750 [==============================] - 0s 9us/step - loss: 1014470.9808 - acc: 5.4962e-04 - val_loss: 895312.0575 - val_acc: 1.0000e-03\n",
      "Epoch 58/100\n",
      "32750/32750 [==============================] - 0s 9us/step - loss: 1010113.2985 - acc: 3.3588e-04 - val_loss: 936376.6580 - val_acc: 1.0000e-03\n",
      "Epoch 59/100\n",
      "32750/32750 [==============================] - 0s 11us/step - loss: 1009780.5923 - acc: 4.8855e-04 - val_loss: 901775.1450 - val_acc: 1.0000e-03\n",
      "Epoch 60/100\n",
      "32750/32750 [==============================] - 1s 18us/step - loss: 1004611.0605 - acc: 4.5802e-04 - val_loss: 931169.6885 - val_acc: 0.0000e+00\n",
      "Epoch 61/100\n",
      "32750/32750 [==============================] - 1s 18us/step - loss: 1009772.0380 - acc: 4.5802e-04 - val_loss: 883126.7870 - val_acc: 0.0000e+00\n",
      "Epoch 62/100\n",
      "32750/32750 [==============================] - 1s 20us/step - loss: 1007484.6330 - acc: 4.5802e-04 - val_loss: 889501.1705 - val_acc: 0.0000e+00\n",
      "Epoch 63/100\n",
      "32750/32750 [==============================] - 1s 18us/step - loss: 1013268.9437 - acc: 4.2748e-04 - val_loss: 865125.3730 - val_acc: 1.0000e-03\n",
      "Epoch 64/100\n",
      "32750/32750 [==============================] - 0s 13us/step - loss: 1006001.6052 - acc: 4.2748e-04 - val_loss: 911834.1555 - val_acc: 0.0000e+00\n",
      "Epoch 65/100\n",
      "32750/32750 [==============================] - 0s 14us/step - loss: 995501.8761 - acc: 9.4656e-04 - val_loss: 926309.0165 - val_acc: 1.0000e-03\n",
      "Epoch 66/100\n",
      "32750/32750 [==============================] - 1s 18us/step - loss: 1003749.2937 - acc: 7.6336e-04 - val_loss: 893002.4710 - val_acc: 0.0000e+00\n",
      "Epoch 67/100\n",
      "32750/32750 [==============================] - 1s 18us/step - loss: 1000109.0128 - acc: 7.6336e-04 - val_loss: 938659.1795 - val_acc: 1.0000e-03\n",
      "Epoch 68/100\n",
      "32750/32750 [==============================] - 1s 18us/step - loss: 1002226.2870 - acc: 7.0229e-04 - val_loss: 892080.9745 - val_acc: 0.0020\n",
      "Epoch 69/100\n",
      "32750/32750 [==============================] - 1s 19us/step - loss: 1004325.3378 - acc: 7.6336e-04 - val_loss: 880392.9720 - val_acc: 0.0020\n",
      "Epoch 70/100\n",
      "32750/32750 [==============================] - 1s 16us/step - loss: 1003260.3801 - acc: 4.2748e-04 - val_loss: 908746.9615 - val_acc: 0.0000e+00\n",
      "Epoch 71/100\n",
      "32750/32750 [==============================] - 1s 17us/step - loss: 989708.0095 - acc: 7.6336e-04 - val_loss: 923813.4965 - val_acc: 1.0000e-03\n",
      "Epoch 72/100\n",
      "32750/32750 [==============================] - 0s 15us/step - loss: 996492.9740 - acc: 6.4122e-04 - val_loss: 882438.1960 - val_acc: 1.0000e-03\n",
      "Epoch 73/100\n",
      "32750/32750 [==============================] - 0s 15us/step - loss: 998352.4925 - acc: 4.8855e-04 - val_loss: 878658.0910 - val_acc: 0.0000e+00\n",
      "Epoch 74/100\n",
      "32750/32750 [==============================] - 0s 14us/step - loss: 992224.5204 - acc: 6.4122e-04 - val_loss: 886565.7820 - val_acc: 0.0000e+00\n",
      "Epoch 75/100\n",
      "32750/32750 [==============================] - 0s 14us/step - loss: 990147.6070 - acc: 4.5802e-04 - val_loss: 844444.6105 - val_acc: 1.0000e-03\n",
      "Epoch 76/100\n",
      "32750/32750 [==============================] - 0s 15us/step - loss: 984404.7919 - acc: 7.9389e-04 - val_loss: 922671.7445 - val_acc: 1.0000e-03\n",
      "Epoch 77/100\n",
      "32750/32750 [==============================] - 0s 14us/step - loss: 996962.1026 - acc: 4.5802e-04 - val_loss: 897063.2535 - val_acc: 0.0020\n",
      "Epoch 78/100\n",
      "32750/32750 [==============================] - 0s 13us/step - loss: 1003005.5326 - acc: 6.4122e-04 - val_loss: 901581.2580 - val_acc: 1.0000e-03\n",
      "Epoch 79/100\n",
      "32750/32750 [==============================] - 0s 13us/step - loss: 989573.1447 - acc: 5.1908e-04 - val_loss: 880834.5990 - val_acc: 0.0000e+00\n",
      "Epoch 80/100\n",
      "32750/32750 [==============================] - 0s 11us/step - loss: 981390.0677 - acc: 8.8550e-04 - val_loss: 905041.9325 - val_acc: 0.0020\n",
      "Epoch 81/100\n",
      "32750/32750 [==============================] - 0s 11us/step - loss: 998629.1353 - acc: 6.1069e-04 - val_loss: 860190.4090 - val_acc: 0.0000e+00\n",
      "Epoch 82/100\n",
      "32750/32750 [==============================] - 0s 11us/step - loss: 980193.5950 - acc: 6.1069e-04 - val_loss: 882986.3660 - val_acc: 1.0000e-03\n",
      "Epoch 83/100\n",
      "32750/32750 [==============================] - 0s 11us/step - loss: 993942.6774 - acc: 7.6336e-04 - val_loss: 898745.0050 - val_acc: 1.0000e-03\n",
      "Epoch 84/100\n",
      "32750/32750 [==============================] - 0s 14us/step - loss: 990171.2886 - acc: 7.3282e-04 - val_loss: 842543.5640 - val_acc: 1.0000e-03\n",
      "Epoch 85/100\n",
      "32750/32750 [==============================] - 0s 13us/step - loss: 977389.0815 - acc: 6.7176e-04 - val_loss: 902799.6630 - val_acc: 0.0000e+00\n",
      "Epoch 86/100\n",
      "32750/32750 [==============================] - 0s 11us/step - loss: 994669.7873 - acc: 7.9389e-04 - val_loss: 867978.6465 - val_acc: 0.0000e+00\n",
      "Epoch 87/100\n",
      "32750/32750 [==============================] - 0s 12us/step - loss: 988655.2336 - acc: 6.4122e-04 - val_loss: 826758.2705 - val_acc: 0.0000e+00\n",
      "Epoch 88/100\n",
      "32750/32750 [==============================] - 1s 20us/step - loss: 985337.4703 - acc: 8.2443e-04 - val_loss: 863108.1305 - val_acc: 0.0020\n",
      "Epoch 89/100\n",
      "32750/32750 [==============================] - 0s 15us/step - loss: 980944.3131 - acc: 6.4122e-04 - val_loss: 861060.1255 - val_acc: 1.0000e-03\n",
      "Epoch 90/100\n",
      "32750/32750 [==============================] - 0s 14us/step - loss: 976162.9964 - acc: 5.4962e-04 - val_loss: 896814.9045 - val_acc: 0.0000e+00\n",
      "Epoch 91/100\n",
      "32750/32750 [==============================] - 0s 11us/step - loss: 965022.4266 - acc: 5.1908e-04 - val_loss: 847329.0205 - val_acc: 0.0000e+00\n",
      "Epoch 92/100\n",
      "32750/32750 [==============================] - 0s 12us/step - loss: 966572.4970 - acc: 7.0229e-04 - val_loss: 878175.1980 - val_acc: 1.0000e-03\n",
      "Epoch 93/100\n",
      "32750/32750 [==============================] - 0s 13us/step - loss: 976580.8343 - acc: 6.1069e-04 - val_loss: 854747.1085 - val_acc: 0.0000e+00\n",
      "Epoch 94/100\n",
      "32750/32750 [==============================] - 0s 14us/step - loss: 964844.8134 - acc: 8.5496e-04 - val_loss: 827223.0870 - val_acc: 1.0000e-03\n",
      "Epoch 95/100\n",
      "32750/32750 [==============================] - 0s 15us/step - loss: 962276.3536 - acc: 6.7176e-04 - val_loss: 821751.8030 - val_acc: 0.0000e+00\n",
      "Epoch 96/100\n",
      "32750/32750 [==============================] - 0s 14us/step - loss: 963911.5079 - acc: 4.5802e-04 - val_loss: 872829.6365 - val_acc: 0.0000e+00\n",
      "Epoch 97/100\n",
      "32750/32750 [==============================] - 0s 11us/step - loss: 963767.6678 - acc: 6.7176e-04 - val_loss: 842553.5210 - val_acc: 1.0000e-03\n",
      "Epoch 98/100\n",
      "32750/32750 [==============================] - 1s 16us/step - loss: 961143.1088 - acc: 4.8855e-04 - val_loss: 817465.9250 - val_acc: 1.0000e-03\n",
      "Epoch 99/100\n",
      "32750/32750 [==============================] - 0s 15us/step - loss: 954466.3965 - acc: 3.6641e-04 - val_loss: 829273.7155 - val_acc: 0.0000e+00\n",
      "Epoch 100/100\n",
      "32750/32750 [==============================] - 0s 13us/step - loss: 953192.4013 - acc: 3.9695e-04 - val_loss: 913359.1085 - val_acc: 0.0000e+00\n"
     ]
    }
   ],
   "source": [
    "hist = model.fit(x_train, y_train, epochs = 100, batch_size = 512, validation_data=(x_val, y_val))"
   ]
  },
  {
   "cell_type": "code",
   "execution_count": 217,
   "metadata": {},
   "outputs": [
    {
     "data": {
      "text/plain": [
       "[<matplotlib.lines.Line2D at 0x7f766cf82f98>]"
      ]
     },
     "execution_count": 217,
     "metadata": {},
     "output_type": "execute_result"
    },
    {
     "data": {
      "image/png": "[encoded data removed]",
      "text/plain": [
       "<Figure size 432x288 with 1 Axes>"
      ]
     },
     "metadata": {
      "needs_background": "light"
     },
     "output_type": "display_data"
    }
   ],
   "source": [
    "plt.plot(hist.history['loss'])"
   ]
  },
  {
   "cell_type": "code",
   "execution_count": 218,
   "metadata": {},
   "outputs": [],
   "source": [
    "y_ = model.predict(x_val)"
   ]
  },
  {
   "cell_type": "code",
   "execution_count": 219,
   "metadata": {},
   "outputs": [],
   "source": [
    "import sklearn.metrics as metrics"
   ]
  },
  {
   "cell_type": "code",
   "execution_count": 220,
   "metadata": {},
   "outputs": [
    {
     "data": {
      "text/plain": [
       "0.6913691644623678"
      ]
     },
     "execution_count": 220,
     "metadata": {},
     "output_type": "execute_result"
    }
   ],
   "source": [
    "metrics.r2_score(y_, y_val)"
   ]
  },
  {
   "cell_type": "markdown",
   "metadata": {},
   "source": [
    "### linear model"
   ]
  },
  {
   "cell_type": "code",
   "execution_count": 231,
   "metadata": {},
   "outputs": [],
   "source": [
    "from sklearn.linear_model import Ridge"
   ]
  },
  {
   "cell_type": "code",
   "execution_count": 232,
   "metadata": {},
   "outputs": [],
   "source": [
    "ridge = Ridge(max_iter=10000)"
   ]
  },
  {
   "cell_type": "code",
   "execution_count": 233,
   "metadata": {},
   "outputs": [
    {
     "data": {
      "text/plain": [
       "Ridge(alpha=1.0, copy_X=True, fit_intercept=True, max_iter=10000,\n",
       "      normalize=False, random_state=None, solver='auto', tol=0.001)"
      ]
     },
     "execution_count": 233,
     "metadata": {},
     "output_type": "execute_result"
    }
   ],
   "source": [
    "ridge.fit(x_train, y_train)"
   ]
  },
  {
   "cell_type": "code",
   "execution_count": 234,
   "metadata": {},
   "outputs": [
    {
     "data": {
      "text/plain": [
       "0.14698147301836817"
      ]
     },
     "execution_count": 234,
     "metadata": {},
     "output_type": "execute_result"
    }
   ],
   "source": [
    "ridge.score(x_train, y_train)"
   ]
  },
  {
   "cell_type": "markdown",
   "metadata": {},
   "source": [
    "### gradient boosting"
   ]
  },
  {
   "cell_type": "code",
   "execution_count": 275,
   "metadata": {},
   "outputs": [],
   "source": [
    "import xgboost as xgb\n",
    "params = {'eval_metric':'rmse'}\n",
    "xm = xgb.DMatrix(x_train, label=y_train)\n",
    "xmodel = xgb.train(params, xm)\n",
    "xg_y_pred = xmodel.predict(xgb.DMatrix(x_val))"
   ]
  },
  {
   "cell_type": "code",
   "execution_count": 276,
   "metadata": {},
   "outputs": [
    {
     "data": {
      "text/plain": [
       "0.712092597808294"
      ]
     },
     "execution_count": 276,
     "metadata": {},
     "output_type": "execute_result"
    }
   ],
   "source": [
    "metrics.r2_score(xg_y_pred, y_val)"
   ]
  },
  {
   "cell_type": "code",
   "execution_count": 277,
   "metadata": {},
   "outputs": [],
   "source": [
    "test_pred = xmodel.predict(xgb.DMatrix(x_test))"
   ]
  },
  {
   "cell_type": "code",
   "execution_count": 278,
   "metadata": {},
   "outputs": [
    {
     "data": {
      "text/html": [
       "<div>\n",
       "<style scoped>\n",
       "    .dataframe tbody tr th:only-of-type {\n",
       "        vertical-align: middle;\n",
       "    }\n",
       "\n",
       "    .dataframe tbody tr th {\n",
       "        vertical-align: top;\n",
       "    }\n",
       "\n",
       "    .dataframe thead th {\n",
       "        text-align: right;\n",
       "    }\n",
       "</style>\n",
       "<table border=\"1\" class=\"dataframe\">\n",
       "  <thead>\n",
       "    <tr style=\"text-align: right;\">\n",
       "      <th></th>\n",
       "      <th>date_time</th>\n",
       "      <th>traffic_volume</th>\n",
       "    </tr>\n",
       "  </thead>\n",
       "  <tbody>\n",
       "    <tr>\n",
       "      <th>0</th>\n",
       "      <td>1969-05-17 21:00:00</td>\n",
       "      <td>500</td>\n",
       "    </tr>\n",
       "    <tr>\n",
       "      <th>1</th>\n",
       "      <td>1969-05-17 21:00:00</td>\n",
       "      <td>530</td>\n",
       "    </tr>\n",
       "    <tr>\n",
       "      <th>2</th>\n",
       "      <td>1969-05-17 21:00:00</td>\n",
       "      <td>545</td>\n",
       "    </tr>\n",
       "    <tr>\n",
       "      <th>3</th>\n",
       "      <td>1969-05-17 22:00:00</td>\n",
       "      <td>750</td>\n",
       "    </tr>\n",
       "  </tbody>\n",
       "</table>\n",
       "</div>"
      ],
      "text/plain": [
       "             date_time  traffic_volume\n",
       "0  1969-05-17 21:00:00             500\n",
       "1  1969-05-17 21:00:00             530\n",
       "2  1969-05-17 21:00:00             545\n",
       "3  1969-05-17 22:00:00             750"
      ]
     },
     "execution_count": 278,
     "metadata": {},
     "output_type": "execute_result"
    }
   ],
   "source": [
    "sample_df"
   ]
  },
  {
   "cell_type": "code",
   "execution_count": 279,
   "metadata": {},
   "outputs": [
    {
     "data": {
      "text/plain": [
       "(4, 2)"
      ]
     },
     "execution_count": 279,
     "metadata": {},
     "output_type": "execute_result"
    }
   ],
   "source": [
    "sample_df.shape"
   ]
  },
  {
   "cell_type": "code",
   "execution_count": 280,
   "metadata": {},
   "outputs": [],
   "source": [
    "submission = pd.DataFrame()"
   ]
  },
  {
   "cell_type": "code",
   "execution_count": 281,
   "metadata": {},
   "outputs": [
    {
     "data": {
      "text/html": [
       "<div>\n",
       "<style scoped>\n",
       "    .dataframe tbody tr th:only-of-type {\n",
       "        vertical-align: middle;\n",
       "    }\n",
       "\n",
       "    .dataframe tbody tr th {\n",
       "        vertical-align: top;\n",
       "    }\n",
       "\n",
       "    .dataframe thead th {\n",
       "        text-align: right;\n",
       "    }\n",
       "</style>\n",
       "<table border=\"1\" class=\"dataframe\">\n",
       "  <thead>\n",
       "    <tr style=\"text-align: right;\">\n",
       "      <th></th>\n",
       "    </tr>\n",
       "  </thead>\n",
       "  <tbody>\n",
       "  </tbody>\n",
       "</table>\n",
       "</div>"
      ],
      "text/plain": [
       "Empty DataFrame\n",
       "Columns: []\n",
       "Index: []"
      ]
     },
     "execution_count": 281,
     "metadata": {},
     "output_type": "execute_result"
    }
   ],
   "source": [
    "submission"
   ]
  },
  {
   "cell_type": "code",
   "execution_count": 288,
   "metadata": {},
   "outputs": [
    {
     "ename": "IndexError",
     "evalue": "too many indices for array",
     "output_type": "error",
     "traceback": [
      "\u001b[0;31m---------------------------------------------------------------------------\u001b[0m",
      "\u001b[0;31mIndexError\u001b[0m                                Traceback (most recent call last)",
      "\u001b[0;32m<ipython-input-288-4da38cf22f4a>\u001b[0m in \u001b[0;36m<module>\u001b[0;34m\u001b[0m\n\u001b[1;32m      1\u001b[0m \u001b[0msubmission\u001b[0m\u001b[0;34m[\u001b[0m\u001b[0;34m'data_time'\u001b[0m\u001b[0;34m]\u001b[0m \u001b[0;34m=\u001b[0m \u001b[0mtest_df\u001b[0m\u001b[0;34m.\u001b[0m\u001b[0mdate_time\u001b[0m\u001b[0;34m\u001b[0m\u001b[0;34m\u001b[0m\u001b[0m\n\u001b[0;32m----> 2\u001b[0;31m \u001b[0msubmission\u001b[0m\u001b[0;34m[\u001b[0m\u001b[0;34m'traffic_volume'\u001b[0m\u001b[0;34m]\u001b[0m \u001b[0;34m=\u001b[0m \u001b[0mint\u001b[0m\u001b[0;34m(\u001b[0m\u001b[0mtest_pred\u001b[0m\u001b[0;34m[\u001b[0m\u001b[0;34m:\u001b[0m\u001b[0;34m,\u001b[0m \u001b[0;34m:\u001b[0m\u001b[0;34m]\u001b[0m\u001b[0;34m)\u001b[0m\u001b[0;34m\u001b[0m\u001b[0;34m\u001b[0m\u001b[0m\n\u001b[0m",
      "\u001b[0;31mIndexError\u001b[0m: too many indices for array"
     ]
    }
   ],
   "source": [
    "submission['data_time'] = test_df.date_time\n",
    "submission['traffic_volume'] = "
   ]
  },
  {
   "cell_type": "code",
   "execution_count": 283,
   "metadata": {},
   "outputs": [
    {
     "data": {
      "text/html": [
       "<div>\n",
       "<style scoped>\n",
       "    .dataframe tbody tr th:only-of-type {\n",
       "        vertical-align: middle;\n",
       "    }\n",
       "\n",
       "    .dataframe tbody tr th {\n",
       "        vertical-align: top;\n",
       "    }\n",
       "\n",
       "    .dataframe thead th {\n",
       "        text-align: right;\n",
       "    }\n",
       "</style>\n",
       "<table border=\"1\" class=\"dataframe\">\n",
       "  <thead>\n",
       "    <tr style=\"text-align: right;\">\n",
       "      <th></th>\n",
       "      <th>data_time</th>\n",
       "      <th>traffic_volume</th>\n",
       "    </tr>\n",
       "  </thead>\n",
       "  <tbody>\n",
       "    <tr>\n",
       "      <th>0</th>\n",
       "      <td>2017-05-18 00:00:00</td>\n",
       "      <td>850.313904</td>\n",
       "    </tr>\n",
       "    <tr>\n",
       "      <th>1</th>\n",
       "      <td>2017-05-18 00:00:00</td>\n",
       "      <td>850.313904</td>\n",
       "    </tr>\n",
       "    <tr>\n",
       "      <th>2</th>\n",
       "      <td>2017-05-18 00:00:00</td>\n",
       "      <td>780.216248</td>\n",
       "    </tr>\n",
       "    <tr>\n",
       "      <th>3</th>\n",
       "      <td>2017-05-18 01:00:00</td>\n",
       "      <td>518.369202</td>\n",
       "    </tr>\n",
       "    <tr>\n",
       "      <th>4</th>\n",
       "      <td>2017-05-18 01:00:00</td>\n",
       "      <td>518.369202</td>\n",
       "    </tr>\n",
       "  </tbody>\n",
       "</table>\n",
       "</div>"
      ],
      "text/plain": [
       "             data_time  traffic_volume\n",
       "0  2017-05-18 00:00:00      850.313904\n",
       "1  2017-05-18 00:00:00      850.313904\n",
       "2  2017-05-18 00:00:00      780.216248\n",
       "3  2017-05-18 01:00:00      518.369202\n",
       "4  2017-05-18 01:00:00      518.369202"
      ]
     },
     "execution_count": 283,
     "metadata": {},
     "output_type": "execute_result"
    }
   ],
   "source": [
    "submission.head()"
   ]
  },
  {
   "cell_type": "code",
   "execution_count": 284,
   "metadata": {},
   "outputs": [],
   "source": [
    "submission.to_csv('submission.csv', index=None)"
   ]
  },
  {
   "cell_type": "code",
   "execution_count": 285,
   "metadata": {},
   "outputs": [
    {
     "data": {
      "text/plain": [
       "array([ 850.3139 ,  850.3139 ,  780.21625, ..., 2475.5554 , 1883.6157 ,\n",
       "       1377.458  ], dtype=float32)"
      ]
     },
     "execution_count": 285,
     "metadata": {},
     "output_type": "execute_result"
    }
   ],
   "source": [
    "test_pred"
   ]
  },
  {
   "cell_type": "code",
   "execution_count": null,
   "metadata": {},
   "outputs": [],
   "source": []
  }
 ],
 "metadata": {
  "kernelspec": {
   "display_name": "Python 3",
   "language": "python",
   "name": "python3"
  },
  "language_info": {
   "codemirror_mode": {
    "name": "ipython",
    "version": 3
   },
   "file_extension": ".py",
   "mimetype": "text/x-python",
   "name": "python",
   "nbconvert_exporter": "python",
   "pygments_lexer": "ipython3",
   "version": "3.6.8"
  }
 },
 "nbformat": 4,
 "nbformat_minor": 2
}
